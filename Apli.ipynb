{
  "nbformat": 4,
  "nbformat_minor": 0,
  "metadata": {
    "colab": {
      "provenance": [],
      "authorship_tag": "ABX9TyOkprLVBd73Z9yU3/n1rKNu",
      "include_colab_link": true
    },
    "kernelspec": {
      "name": "python3",
      "display_name": "Python 3"
    },
    "language_info": {
      "name": "python"
    }
  },
  "cells": [
    {
      "cell_type": "markdown",
      "metadata": {
        "id": "view-in-github",
        "colab_type": "text"
      },
      "source": [
        "<a href=\"https://colab.research.google.com/github/danielbau26/Aplicadas/blob/main/Apli.ipynb\" target=\"_parent\"><img src=\"https://colab.research.google.com/assets/colab-badge.svg\" alt=\"Open In Colab\"/></a>"
      ]
    },
    {
      "cell_type": "markdown",
      "source": [
        "#TALLER 1"
      ],
      "metadata": {
        "id": "om22n_KMKnk1"
      }
    },
    {
      "cell_type": "markdown",
      "source": [
        "\n",
        "Área lateral de de un cilindro:\n",
        "\n",
        "$A=2\\pi r g$\n",
        "\n",
        "$r=\\frac{A}{2\\pi g}$\n",
        "\n",
        "Volumen del cono:\n",
        "\n",
        "$V=\\frac{A_B\\cdot h}{3}$\n",
        "\n",
        "$3\\cdot V= A_B\\cdot h$\n",
        "\n",
        "$\\frac{3 \\cdot V}{A_B} = h$\n",
        "\n",
        "Volumen de la esfera:\n",
        "\n",
        "$V=\\frac{4}{3} \\cdot \\pi \\cdot r^3$\n",
        "\n",
        "$\\frac{V\\cdot 3}{4\\pi} = r^3$\n",
        "\n",
        "$\\sqrt[3]{\\frac{V\\cdot 3}{4\\pi}} = r$\n",
        "\n",
        "Área del trapecio:\n",
        "\n",
        "$A=\\frac{B+b}{2} \\cdot h$\n",
        "\n",
        "$\\frac{A\\cdot 2}{A+b} = h$\n",
        "\n",
        "Intensidad eléctrica:\n",
        "\n",
        "$I=\\frac{q}{t}$\n",
        "\n",
        "$t = \\frac{q}{I}$\n",
        "\n"
      ],
      "metadata": {
        "id": "HhKXRotfLJ74"
      }
    },
    {
      "cell_type": "code",
      "source": [
        "a = (3*((- 5)+10+(- 5))-2(-2)+(- 4)+10)**2\n",
        "print(a)"
      ],
      "metadata": {
        "colab": {
          "base_uri": "https://localhost:8080/",
          "height": 228
        },
        "id": "zfsaB9GZO5Fw",
        "outputId": "93d721e8-ddcb-4d29-8559-fb0e0cfec0dd"
      },
      "execution_count": 4,
      "outputs": [
        {
          "output_type": "stream",
          "name": "stderr",
          "text": [
            "<>:1: SyntaxWarning: 'int' object is not callable; perhaps you missed a comma?\n",
            "<>:1: SyntaxWarning: 'int' object is not callable; perhaps you missed a comma?\n",
            "<ipython-input-4-cbe0559646ba>:1: SyntaxWarning: 'int' object is not callable; perhaps you missed a comma?\n",
            "  a = (3*((- 5)+10+(- 5))-2(-2)+(- 4)+10)**2\n"
          ]
        },
        {
          "output_type": "error",
          "ename": "TypeError",
          "evalue": "'int' object is not callable",
          "traceback": [
            "\u001b[0;31m---------------------------------------------------------------------------\u001b[0m",
            "\u001b[0;31mTypeError\u001b[0m                                 Traceback (most recent call last)",
            "\u001b[0;32m<ipython-input-4-cbe0559646ba>\u001b[0m in \u001b[0;36m<cell line: 0>\u001b[0;34m()\u001b[0m\n\u001b[0;32m----> 1\u001b[0;31m \u001b[0ma\u001b[0m \u001b[0;34m=\u001b[0m \u001b[0;34m(\u001b[0m\u001b[0;36m3\u001b[0m\u001b[0;34m*\u001b[0m\u001b[0;34m(\u001b[0m\u001b[0;34m(\u001b[0m\u001b[0;34m-\u001b[0m \u001b[0;36m5\u001b[0m\u001b[0;34m)\u001b[0m\u001b[0;34m+\u001b[0m\u001b[0;36m10\u001b[0m\u001b[0;34m+\u001b[0m\u001b[0;34m(\u001b[0m\u001b[0;34m-\u001b[0m \u001b[0;36m5\u001b[0m\u001b[0;34m)\u001b[0m\u001b[0;34m)\u001b[0m\u001b[0;34m-\u001b[0m\u001b[0;36m2\u001b[0m\u001b[0;34m(\u001b[0m\u001b[0;34m-\u001b[0m\u001b[0;36m2\u001b[0m\u001b[0;34m)\u001b[0m\u001b[0;34m+\u001b[0m\u001b[0;34m(\u001b[0m\u001b[0;34m-\u001b[0m \u001b[0;36m4\u001b[0m\u001b[0;34m)\u001b[0m\u001b[0;34m+\u001b[0m\u001b[0;36m10\u001b[0m\u001b[0;34m)\u001b[0m\u001b[0;34m**\u001b[0m\u001b[0;36m2\u001b[0m\u001b[0;34m\u001b[0m\u001b[0;34m\u001b[0m\u001b[0m\n\u001b[0m\u001b[1;32m      2\u001b[0m \u001b[0mprint\u001b[0m\u001b[0;34m(\u001b[0m\u001b[0ma\u001b[0m\u001b[0;34m)\u001b[0m\u001b[0;34m\u001b[0m\u001b[0;34m\u001b[0m\u001b[0m\n",
            "\u001b[0;31mTypeError\u001b[0m: 'int' object is not callable"
          ]
        }
      ]
    }
  ]
}