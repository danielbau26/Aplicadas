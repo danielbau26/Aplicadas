{
  "cells": [
    {
      "cell_type": "markdown",
      "metadata": {
        "id": "view-in-github",
        "colab_type": "text"
      },
      "source": [
        "<a href=\"https://colab.research.google.com/github/danielbau26/Aplicadas/blob/main/Cajero_Automatico_sin_contrase%C3%B1a.ipynb\" target=\"_parent\"><img src=\"https://colab.research.google.com/assets/colab-badge.svg\" alt=\"Open In Colab\"/></a>"
      ]
    },
    {
      "cell_type": "code",
      "execution_count": 1,
      "metadata": {
        "id": "VR3AIHgdUTH-"
      },
      "outputs": [],
      "source": [
        "import numpy as np"
      ]
    },
    {
      "cell_type": "code",
      "execution_count": 2,
      "metadata": {
        "id": "DwEqgfxv7BsV"
      },
      "outputs": [],
      "source": [
        "#Función del menu\n",
        "\n",
        "def menu ():\n",
        "  print(\"\")\n",
        "  print(\"Menú:\")\n",
        "  print(\"Selecciona una opción:\")\n",
        "  print(\"1. Consultar saldo\")\n",
        "  print(\"2. Depositar\")\n",
        "  print(\"3. Retirar\")\n",
        "  print(\"4. Transferir dinero\")\n",
        "  print(\"5. Salir\")\n",
        "\n",
        "  while True:\n",
        "    opcion= int(input(\"Opción: \"))\n",
        "    if opcion < 1 or opcion > 5:\n",
        "      print(\"Opción no válida, intente de nuevo\")\n",
        "    else:\n",
        "      break\n",
        "\n",
        "  return opcion"
      ]
    },
    {
      "cell_type": "code",
      "execution_count": 3,
      "metadata": {
        "id": "pLbMlo6F7J0x"
      },
      "outputs": [],
      "source": [
        "#Función para consultar saldo\n",
        "\n",
        "def consultar_saldo (saldo):\n",
        "  print(\"\")\n",
        "  print(f\"Saldo actual: {saldo}\")"
      ]
    },
    {
      "cell_type": "code",
      "execution_count": 4,
      "metadata": {
        "id": "1hmEK1hO7MWk"
      },
      "outputs": [],
      "source": [
        "#Función para depositar dinero\n",
        "\n",
        "def depositar_dinero (saldo):\n",
        "  print(\"\")\n",
        "  while True:\n",
        "    dinero_depositado = float(input(\"Cuanto deseas depositar? \"))\n",
        "    if dinero_depositado < 0:\n",
        "      print(\"No se puede depositar un valor negativo, vuelve a intentarlo\")\n",
        "    else:\n",
        "      break\n",
        "\n",
        "  print(f\"Dinero depositado: {dinero_depositado}\")\n",
        "  saldo = saldo + dinero_depositado\n",
        "  print(f\"Saldo actual: {saldo}\")\n",
        "\n",
        "  return saldo"
      ]
    },
    {
      "cell_type": "code",
      "execution_count": 5,
      "metadata": {
        "id": "jXhhqSRh7Mm5"
      },
      "outputs": [],
      "source": [
        "#Función para retirar dinero\n",
        "\n",
        "def retirar_dinero (saldo):\n",
        "  print(\"\")\n",
        "  print(f\"Su saldo actual es de: {saldo}\")\n",
        "  while True:\n",
        "    dinero_retirado = float(input(\"Cuanto desea retirar? \"))\n",
        "    if dinero_retirado > saldo or dinero_retirado<=0:\n",
        "      print(f\"Fondos insuficeintes o monto invalido\")\n",
        "    else:\n",
        "      break\n",
        "\n",
        "  print(f\"Acabas de retirar ${dinero_retirado}\")\n",
        "\n",
        "  saldo -= dinero_retirado\n",
        "\n",
        "  return saldo"
      ]
    },
    {
      "cell_type": "code",
      "execution_count": 6,
      "metadata": {
        "id": "s5hkpuW27M_Z"
      },
      "outputs": [],
      "source": [
        "#Función para transferir dinero\n",
        "\n",
        "def transferir_dinero (saldo):\n",
        "  print(\"\")\n",
        "  print(f\"Su saldo actual es de: {saldo}\")\n",
        "  while True:\n",
        "    banco = input(\"Ingrese el número de cuenta: \")\n",
        "    confirmacion = input(\"Confirmar número de cuenta: \")\n",
        "    if confirmacion == banco:\n",
        "      break\n",
        "    else:\n",
        "      print(\"Los números de cuenta no coinciden\")\n",
        "\n",
        "  while True:\n",
        "    monto = float(input(\"Ingrese el monto a transferir: $\"))\n",
        "    if monto > saldo:\n",
        "      print(\"El dinero a transferir supera el saldo disponible\")\n",
        "    elif monto <= saldo:\n",
        "      print(f\"Se ha realizado una transferencia de ${monto}\")\n",
        "      saldo -= monto\n",
        "      break\n",
        "    else:\n",
        "      print(\"Supera el saldo disponible\")\n",
        "\n",
        "  return saldo"
      ]
    },
    {
      "cell_type": "code",
      "execution_count": 7,
      "metadata": {
        "colab": {
          "base_uri": "https://localhost:8080/"
        },
        "id": "Tdxma7dXQoSa",
        "outputId": "d41a6dda-ab9f-4267-90a1-4cdd588a8581"
      },
      "outputs": [
        {
          "output_type": "stream",
          "name": "stdout",
          "text": [
            "\n",
            "Menú:\n",
            "Selecciona una opción:\n",
            "1. Consultar saldo\n",
            "2. Depositar\n",
            "3. Retirar\n",
            "4. Transferir dinero\n",
            "5. Salir\n",
            "Opción: 1\n",
            "\n",
            "Saldo actual: 447667.0\n",
            "\n",
            "Menú:\n",
            "Selecciona una opción:\n",
            "1. Consultar saldo\n",
            "2. Depositar\n",
            "3. Retirar\n",
            "4. Transferir dinero\n",
            "5. Salir\n",
            "Opción: 2\n",
            "\n",
            "Cuanto deseas depositar? 4000\n",
            "Dinero depositado: 4000.0\n",
            "Saldo actual: 451667.0\n",
            "\n",
            "Menú:\n",
            "Selecciona una opción:\n",
            "1. Consultar saldo\n",
            "2. Depositar\n",
            "3. Retirar\n",
            "4. Transferir dinero\n",
            "5. Salir\n",
            "Opción: 3\n",
            "\n",
            "Su saldo actual es de: 451667.0\n",
            "Cuanto desea retirar? 50000\n",
            "Acabas de retirar $50000.0\n",
            "\n",
            "Menú:\n",
            "Selecciona una opción:\n",
            "1. Consultar saldo\n",
            "2. Depositar\n",
            "3. Retirar\n",
            "4. Transferir dinero\n",
            "5. Salir\n",
            "Opción: 5\n",
            "\n",
            "Gracias por usar nuestros servicios\n"
          ]
        }
      ],
      "source": [
        "#Codigo principal\n",
        "saldo= float(np.random.randint(0,1000000))\n",
        "\n",
        "while True:\n",
        "  opcion = menu()\n",
        "\n",
        "  if opcion == 1 :\n",
        "    consultar_saldo(saldo)\n",
        "  elif opcion == 2:\n",
        "    saldo = depositar_dinero(saldo)\n",
        "  elif opcion == 3:\n",
        "    saldo = retirar_dinero(saldo)\n",
        "  elif opcion == 4:\n",
        "    saldo = transferir_dinero(saldo)\n",
        "  elif opcion == 5:\n",
        "    print(\"\")\n",
        "    print(\"Gracias por usar nuestros servicios\")\n",
        "    break\n"
      ]
    }
  ],
  "metadata": {
    "colab": {
      "provenance": [],
      "include_colab_link": true
    },
    "kernelspec": {
      "display_name": ".venv",
      "language": "python",
      "name": "python3"
    },
    "language_info": {
      "codemirror_mode": {
        "name": "ipython",
        "version": 3
      },
      "file_extension": ".py",
      "mimetype": "text/x-python",
      "name": "python",
      "nbconvert_exporter": "python",
      "pygments_lexer": "ipython3",
      "version": "3.12.5"
    }
  },
  "nbformat": 4,
  "nbformat_minor": 0
}