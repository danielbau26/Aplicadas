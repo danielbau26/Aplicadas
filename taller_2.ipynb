{
  "nbformat": 4,
  "nbformat_minor": 0,
  "metadata": {
    "colab": {
      "provenance": [],
      "name": "taller 2",
      "include_colab_link": true
    },
    "kernelspec": {
      "name": "python3",
      "display_name": "Python 3"
    },
    "language_info": {
      "name": "python"
    }
  },
  "cells": [
    {
      "cell_type": "markdown",
      "metadata": {
        "id": "view-in-github",
        "colab_type": "text"
      },
      "source": [
        "<a href=\"https://colab.research.google.com/github/danielbau26/Aplicadas/blob/main/taller_2.ipynb\" target=\"_parent\"><img src=\"https://colab.research.google.com/assets/colab-badge.svg\" alt=\"Open In Colab\"/></a>"
      ]
    },
    {
      "cell_type": "markdown",
      "source": [
        "#TALLER 2\n",
        "\n",
        "##**Integrantes**\n",
        "###Andres Martinez\n",
        "###Juan Camilo Pelaez - A00411206\n",
        "###Daniel Bautista - A0041481\n",
        "###Veronica Flor - A00411667"
      ],
      "metadata": {
        "id": "6qauuO8DrFfo"
      }
    },
    {
      "cell_type": "code",
      "source": [
        "import numpy as np\n",
        "import statistics as st"
      ],
      "metadata": {
        "id": "_AfQEElaqjI6"
      },
      "execution_count": null,
      "outputs": []
    },
    {
      "cell_type": "code",
      "source": [
        "#Ejercicio 1 | Hallar los números primos de una lista\n",
        "\n",
        "def numeros_primos(lista_numeros):\n",
        "\n",
        "  numeros_primos = []\n",
        "\n",
        "  for x in lista_numeros:\n",
        "    if x < 2:\n",
        "      break\n",
        "\n",
        "    if x >= 2:\n",
        "      for i in range(2, int(x**0.5) + 1):\n",
        "        if x % i == 0:\n",
        "          es_primo = False\n",
        "          break\n",
        "        else:\n",
        "          es_primo = True\n",
        "\n",
        "      if es_primo:\n",
        "        numeros_primos.append(x)\n",
        "\n",
        "  return numeros_primos\n",
        "\n",
        "lista_numeros = [13, 2, 6, 4, 5]\n",
        "\n",
        "primos = numeros_primos(lista_numeros)\n",
        "print(\"Números primos:\", primos)"
      ],
      "metadata": {
        "id": "sX8Uj8Raqg_S",
        "outputId": "ad3412d8-1679-4c6b-e883-ac8f2bf95020",
        "colab": {
          "base_uri": "https://localhost:8080/"
        }
      },
      "execution_count": null,
      "outputs": [
        {
          "output_type": "stream",
          "name": "stdout",
          "text": [
            "Números primos: [13, 2, 5]\n"
          ]
        }
      ]
    },
    {
      "cell_type": "code",
      "source": [
        "#Ejercicio 2 | Elementos comunes entre dos listas\n",
        "\n",
        "def numeros_comunes (lista_1,lista_2):\n",
        "  comunes=[]\n",
        "  for i in lista_1:\n",
        "      if i in lista_2 and i not in comunes:\n",
        "        comunes.append(i)\n",
        "  return comunes\n",
        "\n",
        "lista_1=[1,2,3,4,5]\n",
        "lista_2=[2,4,6,8,5]\n",
        "\n",
        "print(\"Los elementos comunes entre las listas son:\",numeros_comunes(lista_1,lista_2))"
      ],
      "metadata": {
        "id": "xDRKkGrgqfdT",
        "outputId": "557f9d52-58e8-4de3-9bdc-b7e7ab17b93e",
        "colab": {
          "base_uri": "https://localhost:8080/"
        }
      },
      "execution_count": null,
      "outputs": [
        {
          "output_type": "stream",
          "name": "stdout",
          "text": [
            "Los elementos comunes entre las listas son: [2, 4, 5]\n"
          ]
        }
      ]
    },
    {
      "cell_type": "code",
      "source": [
        "#Ejercicio 3 | convertir una lista en una matriz cuadrada y\n",
        "#Si no se puede dar error\n",
        "\n",
        "def convertir_a_matriz(lista):\n",
        "  if len(lista[0]) == len(lista[1]) and len(lista[1]) == len(lista[2]):\n",
        "      return np.array(lista)\n",
        "  else:\n",
        "    return \"No se puede crear una matriz cuadrada\"\n",
        "\n",
        "lista=[[1,2,3,4],[2,3,4,5],[3,4,5,6]]\n",
        "\n",
        "print(\"Matriz convertida:\")\n",
        "print(convertir_a_matriz(lista))"
      ],
      "metadata": {
        "id": "LHmW1agcqdnL",
        "outputId": "03090583-d6fe-4bf5-ff20-505b13542d7e",
        "colab": {
          "base_uri": "https://localhost:8080/"
        }
      },
      "execution_count": null,
      "outputs": [
        {
          "output_type": "stream",
          "name": "stdout",
          "text": [
            "Matriz convertida:\n",
            "[[1 2 3 4]\n",
            " [2 3 4 5]\n",
            " [3 4 5 6]]\n"
          ]
        }
      ]
    },
    {
      "cell_type": "code",
      "source": [
        "#Ejercicio 4 | Devolver la media, mediana y moda de una lista\n",
        "\n",
        "def medidas_de_tendencia_central(lista):\n",
        "  media = st.mean(lista)\n",
        "  mediana = st.median(lista)\n",
        "  moda = st.mode(lista)\n",
        "\n",
        "  return media, mediana, moda\n",
        "\n",
        "cuarta_lista=[1,2,3,4,2,2,3]\n",
        "\n",
        "media, mediana, moda = medidas_de_tendencia_central(cuarta_lista)\n",
        "print(f\"La media es: {media}\")\n",
        "print(f\"La mediana es: {mediana}\")\n",
        "print(f\"La moda es: {moda}\")"
      ],
      "metadata": {
        "id": "ZINOL2kJqbxt",
        "outputId": "e66ddf7c-72cf-47ee-dc30-29d658d0f79f",
        "colab": {
          "base_uri": "https://localhost:8080/"
        }
      },
      "execution_count": null,
      "outputs": [
        {
          "output_type": "stream",
          "name": "stdout",
          "text": [
            "La media es: 2.4285714285714284\n",
            "La mediana es: 2\n",
            "La moda es: 2\n"
          ]
        }
      ]
    },
    {
      "cell_type": "code",
      "source": [
        "#Ejercicio 5 | Conocer el costo total de una compra almacenando los precios y\n",
        "#Las cosas compradas en dos listas diferentes\n",
        "\n",
        "def total(precios,compras):\n",
        "  total = 0\n",
        "  for i in range(len(precios)):\n",
        "    total += precios[i]*compras[i]\n",
        "  if total >100:\n",
        "    total = total*0.9\n",
        "  return total\n",
        "\n",
        "precios=[2,3,20,50,8]\n",
        "cantidades_compradas=[5,6,4,3,7]\n",
        "\n",
        "print(f\"El costo total de la compra es de: ${total(precios,cantidades_compradas)}\")"
      ],
      "metadata": {
        "id": "gzm44TyGqZ1V",
        "outputId": "8b31507d-6932-48dd-a73a-25b87b47d3bc",
        "colab": {
          "base_uri": "https://localhost:8080/"
        }
      },
      "execution_count": null,
      "outputs": [
        {
          "output_type": "stream",
          "name": "stdout",
          "text": [
            "El costo total de la compra es de: $282.6\n"
          ]
        }
      ]
    },
    {
      "cell_type": "code",
      "source": [
        "#Ejercicio 6 | Conocer la disponibilidad de productos despues de un día de\n",
        "#Trabajo\n",
        "\n",
        "def disponibilidad(inventario,vendidos):\n",
        "  for x in vendidos:\n",
        "    if x in inventario:\n",
        "      inventario.remove(x)\n",
        "  return inventario\n",
        "\n",
        "inventario=[\"Manzana\", \"Pera\", \"Papaya\", \"Banano\", \"Arroz\"]\n",
        "vendidos=[\"Arroz\", \"Pera\"]\n",
        "\n",
        "print(\"Los productos disponibles en el inventario son:\",disponibilidad(inventario,vendidos))"
      ],
      "metadata": {
        "id": "VF0fRreUqXVb",
        "outputId": "888fa168-a221-49a8-d9f1-1be7b15d2f0f",
        "colab": {
          "base_uri": "https://localhost:8080/"
        }
      },
      "execution_count": null,
      "outputs": [
        {
          "output_type": "stream",
          "name": "stdout",
          "text": [
            "Los productos disponibles en el inventario son: ['Manzana', 'Papaya', 'Banano']\n"
          ]
        }
      ]
    },
    {
      "cell_type": "code",
      "source": [
        "#Ejercicio 7 | Apartir de una lista de las temperaturas de una mes conocer las\n",
        "#Temperaturas mayor a 30, entre 20 y 30 y menores a 20\n",
        "\n",
        "def temperaturas(lista):\n",
        "  debajo_20=[]\n",
        "  mayor_30=[]\n",
        "  entre_20_30=[]\n",
        "  for i in range(len(lista)):\n",
        "    if lista[i] > 30:\n",
        "      mayor_30.append(lista[i])\n",
        "    elif (20>=lista[i]<=30):\n",
        "      entre_20_30.append(lista[i])\n",
        "    else:\n",
        "      debajo_20.append(lista[i])\n",
        "  return debajo_20, entre_20_30, mayor_30\n",
        "\n",
        "temperaturas_diarias = [22.5, 23.0, 21.8, 20.1, 19.5, 18.0, 17.2, 21.4, 24.0, 25.3, 26.1, 27.8, 28.5, 31.0]\n",
        "\n",
        "debajo, entre, mayor = temperaturas(temperaturas_diarias)\n",
        "print(f\"Temperaturas por debajo de 20: {debajo}\")\n",
        "print(f\"Temperaturas entre 20 y 30: {entre}\")\n",
        "print(f\"Temperaturas por encima de 30: {mayor}\")"
      ],
      "metadata": {
        "id": "rnhjb31rqTAA",
        "outputId": "afd130a6-49a3-4f60-c224-d576fa92cc86",
        "colab": {
          "base_uri": "https://localhost:8080/"
        }
      },
      "execution_count": null,
      "outputs": [
        {
          "output_type": "stream",
          "name": "stdout",
          "text": [
            "Temperaturas por debajo de 20: [22.5, 23.0, 21.8, 20.1, 21.4, 24.0, 25.3, 26.1, 27.8, 28.5]\n",
            "Temperaturas entre 20 y 30: [19.5, 18.0, 17.2]\n",
            "Temperaturas por encima de 30: [31.0]\n"
          ]
        }
      ]
    },
    {
      "cell_type": "code",
      "execution_count": null,
      "metadata": {
        "id": "deYxUalzGZDc",
        "outputId": "5d579b06-ecf2-48c0-b728-0d306f499f19",
        "colab": {
          "base_uri": "https://localhost:8080/"
        }
      },
      "outputs": [
        {
          "output_type": "stream",
          "name": "stdout",
          "text": [
            "Ingrese la cantidad de alimentos que ingirió: 5\n",
            "----------------------------------------------------------------\n",
            "Ingrese el nombre del alimento: pollo\n",
            "\n",
            "Ingrese la cantidad de calorías del alimento: 500\n",
            "----------------------------------------------------------------\n",
            "Ingrese el nombre del alimento: carne\n",
            "\n",
            "Ingrese la cantidad de calorías del alimento: 400\n",
            "----------------------------------------------------------------\n",
            "Ingrese el nombre del alimento: papa\n",
            "\n",
            "Ingrese la cantidad de calorías del alimento: 600\n",
            "----------------------------------------------------------------\n",
            "Ingrese el nombre del alimento: cafe\n",
            "\n",
            "Ingrese la cantidad de calorías del alimento: 900\n",
            "----------------------------------------------------------------\n",
            "Ingrese el nombre del alimento: sopa\n",
            "\n",
            "Ingrese la cantidad de calorías del alimento: 300\n",
            "----------------------------------------------------------------\n",
            "Usted ingirió 2700 calorías.\n",
            "Se superó las calorías recomendadas diarias.\n"
          ]
        }
      ],
      "source": [
        "#Ejercicio 8 | Apartir de una lista de alimentos y calorias por alimentos\n",
        "#Conocer si supera las 2000 calorias diarias\n",
        "\n",
        "def calcular_calorias(cantidad):\n",
        "    alimentos = []\n",
        "    calorias = []\n",
        "    calorias_total = 0\n",
        "\n",
        "    for i in range(cantidad):\n",
        "        print(\"----------------------------------------------------------------\")\n",
        "        alimento = input(\"Ingrese el nombre del alimento: \")\n",
        "        print()\n",
        "        calorias_alimento = int(input(\"Ingrese la cantidad de calorías del alimento: \"))\n",
        "\n",
        "        alimentos.append(alimento)\n",
        "        calorias.append(calorias_alimento)\n",
        "        calorias_total += calorias_alimento\n",
        "\n",
        "    print(\"----------------------------------------------------------------\")\n",
        "    print(f\"Usted ingirió {calorias_total} calorías.\")\n",
        "\n",
        "    if calorias_total > 2000:\n",
        "        resultado = \"Se superó las calorías recomendadas diarias.\"\n",
        "    else:\n",
        "        resultado = \"No se superaron las calorías recomendadas diarias.\"\n",
        "    return resultado\n",
        "\n",
        "cantidad = int(input(\"Ingrese la cantidad de alimentos que ingirió: \"))\n",
        "print(calcular_calorias(cantidad))"
      ]
    },
    {
      "cell_type": "code",
      "source": [
        "#Ejercicio 9 | A partir de las ventas del mes calcular el promedio y\n",
        "#Cuantos meses superaron el promedio\n",
        "\n",
        "def ventas(ventas):\n",
        "  total_ventas = 0\n",
        "\n",
        "  for i in range(12):\n",
        "    total_ventas += ventas[i]\n",
        "  promedio = total_ventas/12\n",
        "\n",
        "  return promedio\n",
        "\n",
        "ventas_mensuales = [0]*12\n",
        "\n",
        "for i in range(12):\n",
        "  ventas_mensuales[i] = int(input(f\"Ingrese el valor de las ventas del mes {i+1}: \"))\n",
        "\n",
        "promedio_ventas = ventas(ventas_mensuales)\n",
        "\n",
        "print(\"----------------------------------------------------------------\")\n",
        "print(f\"El promedio de ventas del mes es de: {promedio_ventas:.2f}\")\n",
        "\n",
        "for i in range(12):\n",
        "    if ventas_mensuales[i]>promedio_ventas:\n",
        "      print(\"----------------------------------------------------------------\")\n",
        "      print(f\"El mes {i+1} supero el promedio de ventas mensuales con un total de {ventas_mensuales[i]}\")"
      ],
      "metadata": {
        "id": "z5O4Jce-MJ6_",
        "outputId": "8e73d15c-35bf-47fb-8906-ac444fb9dd99",
        "colab": {
          "base_uri": "https://localhost:8080/"
        }
      },
      "execution_count": null,
      "outputs": [
        {
          "output_type": "stream",
          "name": "stdout",
          "text": [
            "Ingrese el valor de las ventas del mes 1: 3123132\n",
            "Ingrese el valor de las ventas del mes 2: 231213\n",
            "Ingrese el valor de las ventas del mes 3: 3453453\n",
            "Ingrese el valor de las ventas del mes 4: 123124\n",
            "Ingrese el valor de las ventas del mes 5: 53453456\n",
            "Ingrese el valor de las ventas del mes 6: 3453453\n",
            "Ingrese el valor de las ventas del mes 7: 3412321\n",
            "Ingrese el valor de las ventas del mes 8: 2313123\n",
            "Ingrese el valor de las ventas del mes 9: 3454353\n",
            "Ingrese el valor de las ventas del mes 10: 435345\n",
            "Ingrese el valor de las ventas del mes 11: 3454353\n",
            "Ingrese el valor de las ventas del mes 12: 12312312\n",
            "----------------------------------------------------------------\n",
            "El promedio de ventas del mes es de: 7434969.83\n",
            "----------------------------------------------------------------\n",
            "El mes 5 supero el promedio de ventas mensuales con un total de 53453456\n",
            "----------------------------------------------------------------\n",
            "El mes 12 supero el promedio de ventas mensuales con un total de 12312312\n"
          ]
        }
      ]
    },
    {
      "cell_type": "code",
      "source": [
        "#Ejercicio 10 | Según el monto total se realiza un descuento:\n",
        "# - 5% si el total está entre 50 y 100.\n",
        "# - 10% si el total es mayor a 100 y menor a 200.\n",
        "# - 15% si el total es mayor o igual a $200.\n",
        "\n",
        "def descuentos(total):\n",
        "  descuento = 0\n",
        "  newtotal=total\n",
        "  if 50 < total < 100:\n",
        "    descuento = total * 0.05\n",
        "    newtotal = total- descuento\n",
        "\n",
        "  elif 100<= total < 200:\n",
        "    descuento = total * 0.1\n",
        "    newtotal = total- descuento\n",
        "\n",
        "  elif total >= 200:\n",
        "    descuento = total * 0.15\n",
        "    newtotal = total- descuento\n",
        "\n",
        "  return newtotal, descuento\n",
        "\n",
        "total_compra = float(input(\"Ingrese el total de su compra: \"))\n",
        "print(\"\")\n",
        "\n",
        "new_total, descuento = descuentos(total_compra)\n",
        "\n",
        "if descuento > 0:\n",
        "  print(f\"Usted obtuvo un {descuento}% de descuento y la compra le queda en: {new_total}\")\n",
        "else:\n",
        "  print(f\"No aplica descuento. Su total es: ${new_total:.2f}\")"
      ],
      "metadata": {
        "id": "0-wiFhq7cM5s",
        "outputId": "31314312-8a6b-4cdc-e8c5-1625cba66d6c",
        "colab": {
          "base_uri": "https://localhost:8080/"
        }
      },
      "execution_count": null,
      "outputs": [
        {
          "output_type": "stream",
          "name": "stdout",
          "text": [
            "Ingrese el total de su compra: 70\n",
            "\n",
            "Usted obtuvo un 3.5% de descuento y la compra le queda en: 66.5\n"
          ]
        }
      ]
    },
    {
      "cell_type": "code",
      "source": [
        "#Ejercicio 11 | Registro de pacientes\n",
        "\n",
        "def registro_pacientes(nombres, edades):\n",
        "    pacientes_prioritarios = [nombres[i] for i in range(len(edades)) if edades[i] > 60]\n",
        "    return pacientes_prioritarios\n",
        "\n",
        "n = int(input(\"Ingrese la cantidad de pacientes: \"))\n",
        "nombres = []\n",
        "edades = []\n",
        "\n",
        "for _ in range(n):\n",
        "    nombres.append(input(\"Nombre del paciente: \"))\n",
        "    edades.append(int(input(\"Edad del paciente: \")))\n",
        "\n",
        "print(\"Pacientes con atención prioritaria: \", registro_pacientes(nombres, edades))"
      ],
      "metadata": {
        "id": "KBmzPBBKUIfI",
        "outputId": "f59b5848-01f7-4924-e284-d69d2f6465c6",
        "colab": {
          "base_uri": "https://localhost:8080/"
        }
      },
      "execution_count": null,
      "outputs": [
        {
          "output_type": "stream",
          "name": "stdout",
          "text": [
            "Ingrese la cantidad de pacientes: 2\n",
            "Nombre del paciente: jose\n",
            "Edad del paciente: 55\n",
            "Nombre del paciente: andres\n",
            "Edad del paciente: 70\n",
            "Pacientes con atención prioritaria:  ['andres']\n"
          ]
        }
      ]
    },
    {
      "cell_type": "code",
      "source": [
        "#Ejercicio 12 | Cálculo de gastos mensuales\n",
        "\n",
        "def calculo_gastos_mensuales(gastos, categorias):\n",
        "    total = np.sum(gastos)\n",
        "    max_gasto = np.max(gastos)\n",
        "    categoria_max = categorias[np.argmax(gastos)]\n",
        "    return total, categoria_max, max_gasto\n",
        "\n",
        "n = int(input(\"Ingrese la cantidad de categorías de gasto: \"))\n",
        "gastos = []\n",
        "categorias = []\n",
        "\n",
        "for _ in range(n):\n",
        "    categorias.append(input(\"Nombre de la categoría: \"))\n",
        "    gastos.append(float(input(f\"Ingrese el gasto en {categorias[-1]}: \")))\n",
        "\n",
        "total, cat_max, max_gasto = calculo_gastos_mensuales(gastos, categorias)\n",
        "print(f\"Total de gastos: {total}, Mayor gasto en: {cat_max} ({max_gasto})\")\n"
      ],
      "metadata": {
        "id": "EPUMu96_Xmid",
        "outputId": "71a546b3-b49e-41e4-f122-6cccb71ace46",
        "colab": {
          "base_uri": "https://localhost:8080/"
        }
      },
      "execution_count": null,
      "outputs": [
        {
          "output_type": "stream",
          "name": "stdout",
          "text": [
            "Ingrese la cantidad de categorías de gasto: 3\n",
            "Nombre de la categoría: arriendo\n",
            "Ingrese el gasto en arriendo: 1241434\n",
            "Nombre de la categoría: comida\n",
            "Ingrese el gasto en comida: 143412\n",
            "Nombre de la categoría: salidas\n",
            "Ingrese el gasto en salidas: 143434\n",
            "Total de gastos: 1528280.0, Mayor gasto en: arriendo (1241434.0)\n"
          ]
        }
      ]
    },
    {
      "cell_type": "code",
      "source": [
        "#Ejercicio 13 | Control de asistencia a eventos\n",
        "\n",
        "def control_asistencia(registrados, asistieron):\n",
        "    no_asistieron = list(set(registrados) - set(asistieron))\n",
        "    return no_asistieron\n",
        "\n",
        "n = int(input(\"Ingrese la cantidad de personas registradas: \"))\n",
        "registrados = [input(\"Nombre de la persona registrada: \") for _ in range(n)]\n",
        "\n",
        "m = int(input(\"Ingrese la cantidad de personas que asistieron: \"))\n",
        "asistieron = [input(\"Nombre de la persona asistente: \") for _ in range(m)]\n",
        "\n",
        "print(\"Personas que no asistieron:\", control_asistencia(registrados, asistieron))"
      ],
      "metadata": {
        "id": "Ok-w-WM3XtzR",
        "outputId": "e5ae0426-278c-4c14-87f4-acb4d2fcaf61",
        "colab": {
          "base_uri": "https://localhost:8080/"
        }
      },
      "execution_count": null,
      "outputs": [
        {
          "output_type": "stream",
          "name": "stdout",
          "text": [
            "Ingrese la cantidad de personas registradas: 5\n",
            "Nombre de la persona registrada: juan\n",
            "Nombre de la persona registrada: jose\n",
            "Nombre de la persona registrada: andres\n",
            "Nombre de la persona registrada: carlos\n",
            "Nombre de la persona registrada: kevin\n",
            "Ingrese la cantidad de personas que asistieron: 4\n",
            "Nombre de la persona asistente: juan\n",
            "Nombre de la persona asistente: andres\n",
            "Nombre de la persona asistente: carlos\n",
            "Nombre de la persona asistente: kevin\n",
            "Personas que no asistieron: ['jose']\n"
          ]
        }
      ]
    },
    {
      "cell_type": "code",
      "source": [
        "#Ejercicio 14 | Recomendación de ejercicio diario\n",
        "\n",
        "def recomendacion_ejercicio(minutos_semanales):\n",
        "    promedio = np.mean(minutos_semanales)\n",
        "    if promedio > 60:\n",
        "        return \"Excelente, estás en forma\"\n",
        "    elif 30 <= promedio <= 60:\n",
        "        return \"Buen trabajo, pero puedes mejorar\"\n",
        "    else:\n",
        "        return \"Debes hacer más ejercicio\"\n",
        "\n",
        "minutos_semanales = [int(input(f\"Minutos de ejercicio del día {i+1}: \")) for i in range(7)]\n",
        "print(\"Recomendación de ejercicio:\", recomendacion_ejercicio(minutos_semanales))"
      ],
      "metadata": {
        "id": "x87Qt-luXzqB",
        "outputId": "e1087961-4d29-4f62-ba62-6eb4b382b6f4",
        "colab": {
          "base_uri": "https://localhost:8080/"
        }
      },
      "execution_count": null,
      "outputs": [
        {
          "output_type": "stream",
          "name": "stdout",
          "text": [
            "Minutos de ejercicio del día 1: 50\n",
            "Minutos de ejercicio del día 2: 20\n",
            "Minutos de ejercicio del día 3: 45\n",
            "Minutos de ejercicio del día 4: 120\n",
            "Minutos de ejercicio del día 5: 100\n",
            "Minutos de ejercicio del día 6: 105\n",
            "Minutos de ejercicio del día 7: 90\n",
            "Recomendación de ejercicio: Excelente, estás en forma\n"
          ]
        }
      ]
    }
  ]
}