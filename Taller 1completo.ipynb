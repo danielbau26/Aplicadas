{
  "nbformat": 4,
  "nbformat_minor": 0,
  "metadata": {
    "colab": {
      "provenance": [],
      "authorship_tag": "ABX9TyNdBCz13IhBNVyatn3xeqoi",
      "include_colab_link": true
    },
    "kernelspec": {
      "name": "python3",
      "display_name": "Python 3"
    },
    "language_info": {
      "name": "python"
    }
  },
  "cells": [
    {
      "cell_type": "markdown",
      "metadata": {
        "id": "view-in-github",
        "colab_type": "text"
      },
      "source": [
        "<a href=\"https://colab.research.google.com/github/danielbau26/Aplicadas/blob/main/Taller%201completo.ipynb\" target=\"_parent\"><img src=\"https://colab.research.google.com/assets/colab-badge.svg\" alt=\"Open In Colab\"/></a>"
      ]
    },
    {
      "cell_type": "markdown",
      "source": [
        "#TALLER 1"
      ],
      "metadata": {
        "id": "om22n_KMKnk1"
      }
    },
    {
      "cell_type": "markdown",
      "source": [
        "##**Integrantes**\n",
        "###Andres Martinez\n",
        "###Juan Camilo Pelaez\n",
        "###Daniel Bautista\n",
        "###Veronica Flor"
      ],
      "metadata": {
        "id": "SrdRwODTbUZQ"
      }
    },
    {
      "cell_type": "markdown",
      "source": [
        "##1."
      ],
      "metadata": {
        "id": "dJqgJeo_Tejr"
      }
    },
    {
      "cell_type": "markdown",
      "source": [
        "\n",
        "Área lateral de de un cilindro:\n",
        "\n",
        "$A=2\\pi r g$\n",
        "\n",
        "$r=\\frac{A}{2\\pi g}$\n",
        "\n",
        "Volumen del cono:\n",
        "\n",
        "$V=\\frac{A_B\\cdot h}{3}$\n",
        "\n",
        "$3\\cdot V= A_B\\cdot h$\n",
        "\n",
        "$\\frac{3 \\cdot V}{A_B} = h$\n",
        "\n",
        "Volumen de la esfera:\n",
        "\n",
        "$V=\\frac{4}{3} \\cdot \\pi \\cdot r^3$\n",
        "\n",
        "$\\frac{V\\cdot 3}{4\\pi} = r^3$\n",
        "\n",
        "$\\sqrt[3]{\\frac{V\\cdot 3}{4\\pi}} = r$\n",
        "\n",
        "Área del trapecio:\n",
        "\n",
        "$A=\\frac{B+b}{2} \\cdot h$\n",
        "\n",
        "$\\frac{A\\cdot 2}{A+b} = h$\n",
        "\n",
        "Intensidad eléctrica:\n",
        "\n",
        "$I=\\frac{q}{t}$\n",
        "\n",
        "$t = \\frac{q}{I}$\n",
        "\n",
        "ley de Ohm:\n",
        "\n",
        " $I= \\frac{V}{R}$\n",
        "\n",
        " $R = \\frac{V}{I}$\n",
        "\n",
        " Energia eléctrica:\n",
        "\n",
        " $E = \\frac{V^2}{R}\\cdot t$\n",
        "\n",
        " $t = \\frac{E \\cdot R}{V^2}$\n",
        "\n",
        " Resistencias en paralelo:\n",
        "\n",
        " $\\frac{1}{R}=\\frac{1}{R_1}+\\frac{1}{R_2}$\n",
        "\n",
        " $R= \\frac{R_1 R_2} {R_1 + R_2}$\n",
        "\n",
        "Ecuación gases perfectos\n",
        "\n",
        " $\\frac{P_0 V_0}{T_0}=\\frac{P_f V_f}{T_f}$\n",
        "\n",
        " $P_f=\\frac{P_0 V_0 T_f}{T_0 V_f}$\n",
        "\n",
        " Intensidad eléctrica\n",
        "\n",
        " $I=\\frac{V_A - V_B}{R}$\n",
        "\n",
        " $V_b=V-I\\cdot R$\n",
        "\n"
      ],
      "metadata": {
        "id": "HhKXRotfLJ74"
      }
    },
    {
      "cell_type": "markdown",
      "source": [
        "###2."
      ],
      "metadata": {
        "id": "ITqJYK0fRBf3"
      }
    },
    {
      "cell_type": "code",
      "source": [
        "a = (3*((- 5)+10+(- 5))-2*(-2)+(- 4)+10)**2\n",
        "print(a)"
      ],
      "metadata": {
        "colab": {
          "base_uri": "https://localhost:8080/"
        },
        "id": "zfsaB9GZO5Fw",
        "outputId": "a9f20c0e-b1df-483e-dbd9-c2606625111d"
      },
      "execution_count": null,
      "outputs": [
        {
          "output_type": "stream",
          "name": "stdout",
          "text": [
            "100\n"
          ]
        }
      ]
    },
    {
      "cell_type": "code",
      "source": [
        "b = (45 + (3*(2+8)-8/4)+10-83)\n",
        "print(b)"
      ],
      "metadata": {
        "colab": {
          "base_uri": "https://localhost:8080/"
        },
        "id": "2m72a5eaRJqA",
        "outputId": "3fe6f49f-f6e3-45d5-efd4-170b40ca1755"
      },
      "execution_count": null,
      "outputs": [
        {
          "output_type": "stream",
          "name": "stdout",
          "text": [
            "0.0\n"
          ]
        }
      ]
    },
    {
      "cell_type": "code",
      "source": [
        "c = ((-4+7)*2-10)*(-4+7+3)\n",
        "print(c)"
      ],
      "metadata": {
        "colab": {
          "base_uri": "https://localhost:8080/"
        },
        "id": "SIz1a9bVRzz1",
        "outputId": "830e1ade-c217-4e32-bec2-61e8ab4babfb"
      },
      "execution_count": null,
      "outputs": [
        {
          "output_type": "stream",
          "name": "stdout",
          "text": [
            "-24\n"
          ]
        }
      ]
    },
    {
      "cell_type": "markdown",
      "source": [
        "###3."
      ],
      "metadata": {
        "id": "izunNUwNTZET"
      }
    },
    {
      "cell_type": "code",
      "source": [
        "a = 1/5 * (((1/2)**2) + (3/4)**2) + 10/25 * ((1/2)**2 + (3/4)**2) + 8/40 * ((1/2)**2 + (3/4)**2)\n",
        "print(a)"
      ],
      "metadata": {
        "colab": {
          "base_uri": "https://localhost:8080/"
        },
        "id": "lTmdKSPmTDyi",
        "outputId": "19a8413e-7029-41c1-daa6-b2ac594c67a9"
      },
      "execution_count": null,
      "outputs": [
        {
          "output_type": "stream",
          "name": "stdout",
          "text": [
            "0.65\n"
          ]
        }
      ]
    },
    {
      "cell_type": "code",
      "source": [
        "b = 9/4*((6/8)**-1)-(5/2)*((25/20)**-1)+(40/8)*((20/16)**-1)\n",
        "print(b)"
      ],
      "metadata": {
        "colab": {
          "base_uri": "https://localhost:8080/"
        },
        "id": "JOkXqsUgSDIo",
        "outputId": "ac2339fc-95ec-4fd1-f4ba-1bb2d8322724"
      },
      "execution_count": null,
      "outputs": [
        {
          "output_type": "stream",
          "name": "stdout",
          "text": [
            "5.0\n"
          ]
        }
      ]
    },
    {
      "cell_type": "markdown",
      "source": [
        "##4."
      ],
      "metadata": {
        "id": "q36iP8-dWoyu"
      }
    },
    {
      "cell_type": "code",
      "source": [
        "print(\"Bienvenido al calculador de IMC\")\n",
        "name = input(\"digite su nombre: \")\n",
        "peso = float(input(\"digite su peso en kilogramos: \"))\n",
        "altura= float(input(\"digite su altura en metros: \"))\n",
        "\n",
        "IMC = peso/(altura**2)\n",
        "\n",
        "print(f\"{name} su imc es de: {IMC}\")"
      ],
      "metadata": {
        "id": "pO4mjko8Wr5C"
      },
      "execution_count": null,
      "outputs": []
    },
    {
      "cell_type": "markdown",
      "source": [
        "##5."
      ],
      "metadata": {
        "id": "JE1Vsv0OWtbd"
      }
    },
    {
      "cell_type": "code",
      "source": [
        "print(\"Bienvenido a la calculadora\")\n",
        "num1 = float(input(\"ingrese el primer numero: \"))\n",
        "num2 = float(input(\"ingrese el segundo numero: \"))\n",
        "\n",
        "print(f\"\"\"la suma de los numeros es: {num1+ num2}\n",
        "la multiplicacion de los numeros es: {num1*num2}\n",
        "la resta de {num1} menos {num2} es: {num1-num2}\n",
        "la resta de {num2} menos {num1} es: {num2-num1}\n",
        "la division de {num1} y {num2} es: {num1/num2}\n",
        "la division de {num2} y {num1} es: {num2/num1}\"\"\")"
      ],
      "metadata": {
        "id": "WFriEgzeWvV7"
      },
      "execution_count": null,
      "outputs": []
    },
    {
      "cell_type": "markdown",
      "source": [
        "##6."
      ],
      "metadata": {
        "id": "x5A1OGByWzUF"
      }
    },
    {
      "cell_type": "code",
      "source": [
        "# Precios del barril de petróleo en los últimos 7 días\n",
        "precios_petroleo = [85.50, 86.00, 85.75, 86.20, 86.50, 86.80, 87.00]\n",
        "\n",
        "# Precio de un litro de Coca-Cola en pesos\n",
        "precio_coca_litro_cop = 5000\n",
        "\n",
        "# Conversión de litros a barriles\n",
        "litros_por_barril = 159\n",
        "\n",
        "# Tasa de cambio COP a USD\n",
        "tasa_cambio = 4144\n",
        "\n",
        "# Cálculo del precio promedio del barril de petróleo\n",
        "precio_promedio_petroleo = sum(precios_petroleo) / len(precios_petroleo)\n",
        "\n",
        "# Cálculo del precio de un barril de Coca-Cola en COP\n",
        "precio_barril_coca_cop = precio_coca_litro_cop * litros_por_barril\n",
        "\n",
        "# Conversión del precio del barril de Coca-Cola a USD\n",
        "precio_barril_coca_usd = precio_barril_coca_cop / tasa_cambio\n",
        "\n",
        "# Relación proporcional\n",
        "relacion = precio_barril_coca_usd / precio_promedio_petroleo\n",
        "\n",
        "print(f\"Precio promedio del barril de petróleo: ${precio_promedio_petroleo:.2f} USD\")\n",
        "print(f\"Precio de un barril de Coca-Cola: ${precio_barril_coca_usd:.2f} USD\")\n",
        "print(f\"Un barril de Coca-Cola es aproximadamente {relacion:.2f} veces más costoso que un barril de petróleo.\")"
      ],
      "metadata": {
        "id": "6MwL8x44W1O2"
      },
      "execution_count": null,
      "outputs": []
    }
  ]
}