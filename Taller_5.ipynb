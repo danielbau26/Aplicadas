{
  "nbformat": 4,
  "nbformat_minor": 0,
  "metadata": {
    "colab": {
      "provenance": [],
      "authorship_tag": "ABX9TyMOFZbZ6P7XwVQanPcfXx0Q",
      "include_colab_link": true
    },
    "kernelspec": {
      "name": "python3",
      "display_name": "Python 3"
    },
    "language_info": {
      "name": "python"
    }
  },
  "cells": [
    {
      "cell_type": "markdown",
      "metadata": {
        "id": "view-in-github",
        "colab_type": "text"
      },
      "source": [
        "<a href=\"https://colab.research.google.com/github/danielbau26/Aplicadas/blob/main/Taller_5.ipynb\" target=\"_parent\"><img src=\"https://colab.research.google.com/assets/colab-badge.svg\" alt=\"Open In Colab\"/></a>"
      ]
    },
    {
      "cell_type": "code",
      "execution_count": null,
      "metadata": {
        "id": "RipgA-W4GCzL"
      },
      "outputs": [],
      "source": []
    },
    {
      "cell_type": "markdown",
      "source": [
        "#Taller\n",
        "\n",
        "## Daniel Felipe Bautista - A00411481\n",
        "## Veronica Flora - A00411667"
      ],
      "metadata": {
        "id": "80gJ8rOyHIff"
      }
    },
    {
      "cell_type": "markdown",
      "source": [
        "$a)$  $1,\\frac{1}{3},\\frac{1}{9},\\frac{1}{27},...$\n",
        "\n",
        "$an = \\frac{1}{3(n-1)}$\n",
        "\n",
        "$b)$  $1,\\frac{1}{2},\\frac{1}{3},\\frac{1}{4},...$\n",
        "\n",
        "$an = \\frac{1}{n}$\n",
        "\n",
        "$c)$  $1,\\frac{3}{2},\\frac{5}{3},\\frac{7}{4},...$}\n",
        "\n",
        "$an = \\frac{2n-1}{n}$\n",
        "\n",
        "$d)$  $-\\frac{1}{3},\\frac{1}{5},-\\frac{1}{7},\\frac{1}{9},...$\n",
        "\n",
        "$an = \\frac{(-1)^n}{2n+1}$"
      ],
      "metadata": {
        "id": "ZyVbHWarHXFR"
      }
    },
    {
      "cell_type": "markdown",
      "source": [
        "$a)$ $a_n = \\frac{1}{3^n}, n=0,1,2,...$\n",
        "\n",
        "$Convergente$\n",
        "\n",
        "$b)$ $a_n= \\pi^n,n=0,1,2,...$\n",
        "\n",
        "$Divergente$\n",
        "\n",
        "$c)$ $b_n = \\frac{3n-1}{2n+6}, n=1,2,3,...$\n",
        "\n",
        "$Convergente$\n",
        "\n",
        "$d)$ $c_n = \\cos(\\pi n), n=1,2,...$\n",
        "\n",
        "$Divergente$\n",
        "\n",
        "$e)$ $a_n = \\frac{3n^4 -6n^3 +1}{5n^3+n^2+6n^3}, n=1,2,3,...$\n",
        "\n",
        "$Divergente$\n",
        "\n",
        "$f)$ $b_n = \\frac{2n^5 -3n^2 +23}{7n^5+13n^4-12}, n=1,2,3,...$\n",
        "\n",
        "$Convergente$\n",
        "\n",
        "$g)$ $c_n = \\frac{45 -16n^2}{13+5n+6n^3}, n=1,2,3,...$\n",
        "\n",
        "$Convergente$\n",
        "\n",
        "$h)$ $b_n = \\frac{3n+1}{\\sqrt{4n^2+1}}, n=1,2,3,...$\n",
        "\n",
        "$Convergente$\n",
        "\n",
        "$i)$ $a_n = (-2)^{2n+1}, n=1,2,3,...$\n",
        "\n",
        "$Divergente$\n",
        "\n",
        "$j)$ $a_n = \\frac{10-16m^3}{1+n^2}, n=1,2,3,...$\n",
        "\n",
        "$Divergente$\n",
        "\n",
        "$k)$ $a_n = \\sqrt{\\frac{3n^2+n-6}{5n^2+16}}, n=1,2,3,...$\n",
        "\n",
        "$Convergente$\n",
        "\n",
        "$l)$ $b_n = \\frac{(-1)^n}{5^n}, n=1,2,3,...$\n",
        "\n",
        "$Convergente$"
      ],
      "metadata": {
        "id": "RbW1PRQWMGbN"
      }
    }
  ]
}