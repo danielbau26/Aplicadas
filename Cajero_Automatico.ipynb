{
  "nbformat": 4,
  "nbformat_minor": 0,
  "metadata": {
    "colab": {
      "provenance": [],
      "include_colab_link": true
    },
    "kernelspec": {
      "name": "python3",
      "display_name": "Python 3"
    },
    "language_info": {
      "name": "python"
    }
  },
  "cells": [
    {
      "cell_type": "markdown",
      "metadata": {
        "id": "view-in-github",
        "colab_type": "text"
      },
      "source": [
        "<a href=\"https://colab.research.google.com/github/danielbau26/Aplicadas/blob/main/Cajero_Automatico.ipynb\" target=\"_parent\"><img src=\"https://colab.research.google.com/assets/colab-badge.svg\" alt=\"Open In Colab\"/></a>"
      ]
    },
    {
      "cell_type": "code",
      "source": [
        "import numpy as np"
      ],
      "metadata": {
        "id": "VR3AIHgdUTH-"
      },
      "execution_count": 9,
      "outputs": []
    },
    {
      "cell_type": "code",
      "source": [
        "#Función del menu\n",
        "\n",
        "def menu ():\n",
        "  print(\"\")\n",
        "  print(\"Menú:\")\n",
        "  print(\"Selecciona una opción:\")\n",
        "  print(\"1. Consultar saldo\")\n",
        "  print(\"2. Depositar\")\n",
        "  print(\"3. Retirar\")\n",
        "  print(\"4. Transferir dinero\")\n",
        "  print(\"5. Salir\")\n",
        "\n",
        "  while True:\n",
        "    opcion= int(input(\"Opción: \"))\n",
        "    if opcion < 0 or opcion > 5:\n",
        "      print(\"Opción no válida, intente de nuevo\")\n",
        "    else:\n",
        "      break\n",
        "\n",
        "  return opcion"
      ],
      "metadata": {
        "id": "DwEqgfxv7BsV"
      },
      "execution_count": 30,
      "outputs": []
    },
    {
      "cell_type": "code",
      "source": [
        "#Función para consultar saldo\n",
        "\n",
        "def consultar_saldo (saldo):\n",
        "  print(\"\")\n",
        "  print(f\"Saldo actual: {saldo}\")"
      ],
      "metadata": {
        "id": "pLbMlo6F7J0x"
      },
      "execution_count": 28,
      "outputs": []
    },
    {
      "cell_type": "code",
      "source": [
        "#Función para depositar dinero\n",
        "\n",
        "def depositar_dinero (saldo):\n",
        "  print(\"\")\n",
        "  while True:\n",
        "    dinero_depositado = int(input(\"Cuanto desea depositar? \"))\n",
        "    if dinero_depositado < 0:\n",
        "      print(\"No se puede depositar un valor negativo, vuelve a intentarlo\")\n",
        "    else:\n",
        "      break\n",
        "\n",
        "  print(f\"Dinero depositado: {dinero_depositado}\")\n",
        "  saldo = saldo + dinero_depositado\n",
        "  print(f\"Saldo actual: {saldo}\")\n",
        "  return saldo"
      ],
      "metadata": {
        "id": "1hmEK1hO7MWk"
      },
      "execution_count": 24,
      "outputs": []
    },
    {
      "cell_type": "code",
      "source": [
        "#Función para retirar dinero\n",
        "\n",
        "def retirar_dinero (saldo):\n",
        "  print(\"\")\n",
        "  print(f\"Su saldo actual es de: {saldo}\")\n",
        "  while True:\n",
        "    dinero_retirado = int(input(\"Cuanto desea retirar? \"))\n",
        "    if dinero_retirado > saldo:\n",
        "      print(f\"Estas retirando {dinero_retirado}, lo cual es mayor a tu saldo actual\")\n",
        "    else:\n",
        "      break\n",
        "\n",
        "  print(f\"Acabas de retirar ${dinero_retirado}\")\n",
        "\n",
        "  return saldo"
      ],
      "metadata": {
        "id": "jXhhqSRh7Mm5"
      },
      "execution_count": 25,
      "outputs": []
    },
    {
      "cell_type": "code",
      "source": [
        "#Función para transferir dinero\n",
        "\n",
        "def transferir_dinero (saldo):\n",
        "  print(\"\")\n",
        "  print(f\"Su saldo actual es de: {saldo}\")\n",
        "  while True:\n",
        "    banco = int(input(\"Ingrese el número de cuenta: \"))\n",
        "    confirmacion = int(input(\"Confirmar número de cuenta: \"))\n",
        "    if confirmacion == banco and confirmacion>0:\n",
        "      break\n",
        "    else:\n",
        "      print(\"Los números de cuenta no coinciden o no es un numero disponible\")\n",
        "\n",
        "  while True:\n",
        "    monto = int(input(\"Ingrese el monto a transferir: $\"))\n",
        "    if monto > saldo:\n",
        "      print(\"El dinero a transferir supera el saldo disponible\")\n",
        "    elif monto <= saldo:\n",
        "      print(f\"Se ha realizado una transferencia de ${monto}\")\n",
        "      saldo -= monto\n",
        "      break\n",
        "    else:\n",
        "      print(\"Supera el saldo disponible\")\n",
        "\n",
        "  return saldo"
      ],
      "metadata": {
        "id": "s5hkpuW27M_Z"
      },
      "execution_count": 26,
      "outputs": []
    },
    {
      "cell_type": "code",
      "source": [
        "#Tiene cuenta?\n",
        "\n",
        "def new_cuenta (usuarios):\n",
        "  while True:\n",
        "    opcion = input(\"Tienes cuenta (si / no): \")\n",
        "    opcion.Lower()\n",
        "    if opcion == \"si\":\n",
        "      break\n",
        "    elif opcion == \"no\":\n",
        "      crear_cuenta(usuarios)\n",
        "      break\n",
        "    else:\n",
        "      print(\"Opción no válida, intente de nuevo\")\n",
        "\n",
        "  return usuarios"
      ],
      "metadata": {
        "id": "9NaoZzKYLtUG"
      },
      "execution_count": 44,
      "outputs": []
    },
    {
      "cell_type": "code",
      "source": [
        "#Crear una cuenta\n",
        "\n",
        "def crear_cuenta (usuarios, saldo_aleatorio):\n",
        "  cedula = input(\"Ingrese su cedula sin espacios: \")\n",
        "  contraseña = input(\"Ingrese una contraseña: \")\n",
        "  usuarios[cedula] = {\"contraseña\" : contraseña, \"saldo\" : saldo_aleatorio}\n",
        "  print(\"Cuenta creada exitosamente\")\n",
        "\n",
        "  return usuarios\n",
        ""
      ],
      "metadata": {
        "id": "6VriX6ZZOHHy"
      },
      "execution_count": 41,
      "outputs": []
    },
    {
      "cell_type": "code",
      "source": [
        "#Función para la contraseña\n",
        "\n",
        "def contraseña (usuarios, saldo):\n",
        "  cedula = 0\n",
        "  while True:\n",
        "    cedula = int(input(\"Ingrese su cedula sin espacios: \"))\n",
        "    if cedula in usuarios:\n",
        "      break\n",
        "    else:\n",
        "      print(\"No se encuentra en la base de datos\")\n",
        "\n",
        "  while True:\n",
        "    intentos = 0 #Maximo 3 intentos para la contraseña\n",
        "    contraseña = int(input(\"Ingrese su contraseña:\"))\n",
        "\n",
        "    if contraseña == usuarios[cedula][\"contraseña\"]:\n",
        "      saldo = usuarios[cedula][\"saldo\"]\n",
        "      print(\"Bienvenido\")\n",
        "      break\n",
        "    elif intentos == 3:\n",
        "      print(\"Demasiados intentos fallidos, cuenta bloqueada\")\n",
        "      break\n",
        "    elif contraseña != usuarios[cedula][\"contraseña\"]:\n",
        "      intetos +=1\n",
        "      print(\"Contraseña incorrecta\")\n",
        "\n",
        "  return saldo,cedula\n"
      ],
      "metadata": {
        "id": "yKwsgXT8LIGc"
      },
      "execution_count": 42,
      "outputs": []
    },
    {
      "cell_type": "code",
      "execution_count": 48,
      "metadata": {
        "colab": {
          "base_uri": "https://localhost:8080/",
          "height": 356
        },
        "id": "Tdxma7dXQoSa",
        "outputId": "1c73d7fa-f8dc-443b-fa27-6ceb09b2d50d"
      },
      "outputs": [
        {
          "output_type": "error",
          "ename": "KeyboardInterrupt",
          "evalue": "Interrupted by user",
          "traceback": [
            "\u001b[0;31m---------------------------------------------------------------------------\u001b[0m",
            "\u001b[0;31mKeyboardInterrupt\u001b[0m                         Traceback (most recent call last)",
            "\u001b[0;32m<ipython-input-48-d532fb1b7ec6>\u001b[0m in \u001b[0;36m<cell line: 0>\u001b[0;34m()\u001b[0m\n\u001b[1;32m      4\u001b[0m \u001b[0msaldo_aleatorio\u001b[0m\u001b[0;34m=\u001b[0m \u001b[0mint\u001b[0m\u001b[0;34m(\u001b[0m\u001b[0mnp\u001b[0m\u001b[0;34m.\u001b[0m\u001b[0mrandom\u001b[0m\u001b[0;34m.\u001b[0m\u001b[0mrandint\u001b[0m\u001b[0;34m(\u001b[0m\u001b[0;36m0\u001b[0m\u001b[0;34m,\u001b[0m\u001b[0;36m1000000\u001b[0m\u001b[0;34m)\u001b[0m\u001b[0;34m)\u001b[0m\u001b[0;34m\u001b[0m\u001b[0;34m\u001b[0m\u001b[0m\n\u001b[1;32m      5\u001b[0m \u001b[0;34m\u001b[0m\u001b[0m\n\u001b[0;32m----> 6\u001b[0;31m \u001b[0musuarios\u001b[0m \u001b[0;34m=\u001b[0m \u001b[0mnew_cuenta\u001b[0m\u001b[0;34m(\u001b[0m\u001b[0musuarios\u001b[0m\u001b[0;34m)\u001b[0m\u001b[0;34m\u001b[0m\u001b[0;34m\u001b[0m\u001b[0m\n\u001b[0m\u001b[1;32m      7\u001b[0m \u001b[0msaldo\u001b[0m \u001b[0;34m=\u001b[0m \u001b[0;36m0\u001b[0m\u001b[0;34m\u001b[0m\u001b[0;34m\u001b[0m\u001b[0m\n\u001b[1;32m      8\u001b[0m \u001b[0mcedula\u001b[0m \u001b[0;34m=\u001b[0m \u001b[0;36m0\u001b[0m\u001b[0;34m\u001b[0m\u001b[0;34m\u001b[0m\u001b[0m\n",
            "\u001b[0;32m<ipython-input-44-cd80d58b67e4>\u001b[0m in \u001b[0;36mnew_cuenta\u001b[0;34m(usuarios)\u001b[0m\n\u001b[1;32m      3\u001b[0m \u001b[0;32mdef\u001b[0m \u001b[0mnew_cuenta\u001b[0m \u001b[0;34m(\u001b[0m\u001b[0musuarios\u001b[0m\u001b[0;34m)\u001b[0m\u001b[0;34m:\u001b[0m\u001b[0;34m\u001b[0m\u001b[0;34m\u001b[0m\u001b[0m\n\u001b[1;32m      4\u001b[0m   \u001b[0;32mwhile\u001b[0m \u001b[0;32mTrue\u001b[0m\u001b[0;34m:\u001b[0m\u001b[0;34m\u001b[0m\u001b[0;34m\u001b[0m\u001b[0m\n\u001b[0;32m----> 5\u001b[0;31m     \u001b[0mopcion\u001b[0m \u001b[0;34m=\u001b[0m \u001b[0minput\u001b[0m\u001b[0;34m(\u001b[0m\u001b[0;34m\"Tienes cuenta (si / no): \"\u001b[0m\u001b[0;34m)\u001b[0m\u001b[0;34m\u001b[0m\u001b[0;34m\u001b[0m\u001b[0m\n\u001b[0m\u001b[1;32m      6\u001b[0m     \u001b[0mopcion\u001b[0m\u001b[0;34m.\u001b[0m\u001b[0mLower\u001b[0m\u001b[0;34m(\u001b[0m\u001b[0;34m)\u001b[0m\u001b[0;34m\u001b[0m\u001b[0;34m\u001b[0m\u001b[0m\n\u001b[1;32m      7\u001b[0m     \u001b[0;32mif\u001b[0m \u001b[0mopcion\u001b[0m \u001b[0;34m==\u001b[0m \u001b[0;34m\"si\"\u001b[0m\u001b[0;34m:\u001b[0m\u001b[0;34m\u001b[0m\u001b[0;34m\u001b[0m\u001b[0m\n",
            "\u001b[0;32m/usr/local/lib/python3.11/dist-packages/ipykernel/kernelbase.py\u001b[0m in \u001b[0;36mraw_input\u001b[0;34m(self, prompt)\u001b[0m\n\u001b[1;32m   1175\u001b[0m                 \u001b[0;34m\"raw_input was called, but this frontend does not support input requests.\"\u001b[0m\u001b[0;34m\u001b[0m\u001b[0;34m\u001b[0m\u001b[0m\n\u001b[1;32m   1176\u001b[0m             )\n\u001b[0;32m-> 1177\u001b[0;31m         return self._input_request(\n\u001b[0m\u001b[1;32m   1178\u001b[0m             \u001b[0mstr\u001b[0m\u001b[0;34m(\u001b[0m\u001b[0mprompt\u001b[0m\u001b[0;34m)\u001b[0m\u001b[0;34m,\u001b[0m\u001b[0;34m\u001b[0m\u001b[0;34m\u001b[0m\u001b[0m\n\u001b[1;32m   1179\u001b[0m             \u001b[0mself\u001b[0m\u001b[0;34m.\u001b[0m\u001b[0m_parent_ident\u001b[0m\u001b[0;34m[\u001b[0m\u001b[0;34m\"shell\"\u001b[0m\u001b[0;34m]\u001b[0m\u001b[0;34m,\u001b[0m\u001b[0;34m\u001b[0m\u001b[0;34m\u001b[0m\u001b[0m\n",
            "\u001b[0;32m/usr/local/lib/python3.11/dist-packages/ipykernel/kernelbase.py\u001b[0m in \u001b[0;36m_input_request\u001b[0;34m(self, prompt, ident, parent, password)\u001b[0m\n\u001b[1;32m   1217\u001b[0m             \u001b[0;32mexcept\u001b[0m \u001b[0mKeyboardInterrupt\u001b[0m\u001b[0;34m:\u001b[0m\u001b[0;34m\u001b[0m\u001b[0;34m\u001b[0m\u001b[0m\n\u001b[1;32m   1218\u001b[0m                 \u001b[0;31m# re-raise KeyboardInterrupt, to truncate traceback\u001b[0m\u001b[0;34m\u001b[0m\u001b[0;34m\u001b[0m\u001b[0m\n\u001b[0;32m-> 1219\u001b[0;31m                 \u001b[0;32mraise\u001b[0m \u001b[0mKeyboardInterrupt\u001b[0m\u001b[0;34m(\u001b[0m\u001b[0;34m\"Interrupted by user\"\u001b[0m\u001b[0;34m)\u001b[0m \u001b[0;32mfrom\u001b[0m \u001b[0;32mNone\u001b[0m\u001b[0;34m\u001b[0m\u001b[0;34m\u001b[0m\u001b[0m\n\u001b[0m\u001b[1;32m   1220\u001b[0m             \u001b[0;32mexcept\u001b[0m \u001b[0mException\u001b[0m\u001b[0;34m:\u001b[0m\u001b[0;34m\u001b[0m\u001b[0;34m\u001b[0m\u001b[0m\n\u001b[1;32m   1221\u001b[0m                 \u001b[0mself\u001b[0m\u001b[0;34m.\u001b[0m\u001b[0mlog\u001b[0m\u001b[0;34m.\u001b[0m\u001b[0mwarning\u001b[0m\u001b[0;34m(\u001b[0m\u001b[0;34m\"Invalid Message:\"\u001b[0m\u001b[0;34m,\u001b[0m \u001b[0mexc_info\u001b[0m\u001b[0;34m=\u001b[0m\u001b[0;32mTrue\u001b[0m\u001b[0;34m)\u001b[0m\u001b[0;34m\u001b[0m\u001b[0;34m\u001b[0m\u001b[0m\n",
            "\u001b[0;31mKeyboardInterrupt\u001b[0m: Interrupted by user"
          ]
        }
      ],
      "source": [
        "#Codigo principal\n",
        "\n",
        "usuarios={}\n",
        "saldo_aleatorio= int(np.random.randint(0,1000000))\n",
        "\n",
        "usuarios = new_cuenta(usuarios)\n",
        "saldo = 0\n",
        "cedula = 0\n",
        "saldo, cedula = contraseña(usuarios, saldo)\n",
        "\n",
        "if saldo >0:\n",
        "  while True:\n",
        "    opcion = menu()\n",
        "\n",
        "    if opcion == 1 :\n",
        "      consultar_saldo(saldo)\n",
        "    elif opcion == 2:\n",
        "      saldo = depositar_dinero(saldo)\n",
        "    elif opcion == 3:\n",
        "      saldo = retirar_dinero(saldo)\n",
        "    elif opcion == 4:\n",
        "      saldo = transferir_dinero(saldo)\n",
        "    elif opcion == 5:\n",
        "      print(\"\")\n",
        "      print(\"Gracias por usar nuestros servicios\")\n",
        "      usuarios[cedula][\"saldo\"] = saldo\n",
        "      break\n",
        "else:\n",
        "  print(\"No lograste acceder a tu cuenta\")"
      ]
    },
    {
      "cell_type": "code",
      "source": [],
      "metadata": {
        "id": "c5pmbDw26CNh"
      },
      "execution_count": null,
      "outputs": []
    }
  ]
}