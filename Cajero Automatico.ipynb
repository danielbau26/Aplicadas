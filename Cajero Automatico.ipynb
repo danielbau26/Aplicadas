{
  "nbformat": 4,
  "nbformat_minor": 0,
  "metadata": {
    "colab": {
      "provenance": [],
      "include_colab_link": true
    },
    "kernelspec": {
      "name": "python3",
      "display_name": "Python 3"
    },
    "language_info": {
      "name": "python"
    }
  },
  "cells": [
    {
      "cell_type": "markdown",
      "metadata": {
        "id": "view-in-github",
        "colab_type": "text"
      },
      "source": [
        "<a href=\"https://colab.research.google.com/github/danielbau26/Aplicadas/blob/main/Cajero%20Automatico.ipynb\" target=\"_parent\"><img src=\"https://colab.research.google.com/assets/colab-badge.svg\" alt=\"Open In Colab\"/></a>"
      ]
    },
    {
      "cell_type": "code",
      "source": [
        "import numpy as np"
      ],
      "metadata": {
        "id": "VR3AIHgdUTH-"
      },
      "execution_count": 28,
      "outputs": []
    },
    {
      "cell_type": "code",
      "source": [
        "#Función del menu\n",
        "\n",
        "def menu ():\n",
        "  print(\"Menú:\")\n",
        "  print(\"Selecciona una opción:\")\n",
        "  print(\"1. Consultar saldo\")\n",
        "  print(\"2. Depositar\")\n",
        "  print(\"3. Retirar\")\n",
        "  print(\"4. Transferir dinero\")\n",
        "  print(\"5. Salir\")\n",
        "\n",
        "  while True:\n",
        "    menu= int(input(\"\"))\n",
        "    if menu < 0 or menu > 5:\n",
        "      print(\"Opción no válida, intente de nuevo\")\n",
        "    else:\n",
        "      break\n",
        "\n",
        "    return menu"
      ],
      "metadata": {
        "id": "DwEqgfxv7BsV"
      },
      "execution_count": 41,
      "outputs": []
    },
    {
      "cell_type": "code",
      "source": [
        "#Función para consultar saldo\n",
        "\n",
        "def consultar_saldo (saldo):\n",
        "  print(f\"actual: {saldo}\")"
      ],
      "metadata": {
        "id": "pLbMlo6F7J0x"
      },
      "execution_count": 42,
      "outputs": []
    },
    {
      "cell_type": "code",
      "source": [
        "#Función para depositar dinero\n",
        "\n",
        "def depositar_dinero (saldo):\n",
        "\n",
        "  while True:\n",
        "    dinero_depositado = int(input(\"Cuanto desea depositar? \"))\n",
        "    if dinero_depositado < 0:\n",
        "      print(\"No se puede depositar un valor negativo, vuelve a intentarlo\")\n",
        "    else:\n",
        "      break\n",
        "\n",
        "  print(f\"Dinero depositado: {dinero_depositado}\")\n",
        "  saldo = saldo + dinero_depositado\n",
        "  print(f\"Saldo actual: {saldo}\")\n",
        "  return saldo"
      ],
      "metadata": {
        "id": "1hmEK1hO7MWk"
      },
      "execution_count": 43,
      "outputs": []
    },
    {
      "cell_type": "code",
      "source": [
        "#Función para retirar dinero\n",
        "\n",
        "def retirar_dinero (saldo):\n",
        "  print(f\"Su saldo actual es de: {saldo}\")\n",
        "  while True:\n",
        "    dinero_retirado = int(input(\"Cuanto desea retirar? \"))\n",
        "    if dinero_retirado > saldo:\n",
        "      print(f\"Estas retirando {dinero_retirado}, lo cual es mayor a tu saldo actual\")\n",
        "    else:\n",
        "      break\n",
        "\n",
        "  print(f\"Acabas de retirar {dinero_retirado}\")\n",
        "\n",
        "  return saldo"
      ],
      "metadata": {
        "id": "jXhhqSRh7Mm5"
      },
      "execution_count": 44,
      "outputs": []
    },
    {
      "cell_type": "code",
      "source": [
        "#Función para transferir dinero\n",
        "\n",
        "def transferir_dinero (saldo):\n",
        "  print(f\"Su saldo actual es de: {saldo}\")\n",
        "  while True:\n",
        "    banco = int(input(\"Ingrese el número de cuenta: \"))\n",
        "    confirmacion = int(input(\"Confirmar número de cuenta: \"))\n",
        "    if confirmacion == banco and confirmacion>0:\n",
        "      break\n",
        "    else:\n",
        "      print(\"Los números de cuenta no coinciden o no es un numero disponible\")\n",
        "\n",
        "  while True:\n",
        "    monto = int(input(\"Ingrese el monto a transferir: $\"))\n",
        "    if monto > saldo:\n",
        "      print(\"El dinero a transferir supera el saldo disponible\")\n",
        "    elif monto <= saldo:\n",
        "      print(f\"Se ha realizado una transferencia de ${monto}\")\n",
        "      saldo -= monto\n",
        "    else:\n",
        "      print(\"Supera el saldo disponible\")\n",
        "\n",
        "  return saldo"
      ],
      "metadata": {
        "id": "s5hkpuW27M_Z"
      },
      "execution_count": 45,
      "outputs": []
    },
    {
      "cell_type": "code",
      "execution_count": 46,
      "metadata": {
        "colab": {
          "base_uri": "https://localhost:8080/",
          "height": 245
        },
        "id": "Tdxma7dXQoSa",
        "outputId": "dfd662e3-963d-4bf6-d520-00ae4059786f"
      },
      "outputs": [
        {
          "name": "stdout",
          "output_type": "stream",
          "text": [
            "Menú:\n",
            "Selecciona una opción:\n",
            "1. Consultar saldo\n",
            "2. Depositar\n",
            "3. Retirar\n",
            "4. Transferir dinero\n",
            "5. Salir\n",
            "5\n"
          ]
        },
        {
          "output_type": "error",
          "ename": "SyntaxError",
          "evalue": "'break' outside loop (<ipython-input-46-3b833d61c3de>, line 16)",
          "traceback": [
            "\u001b[0;36m  File \u001b[0;32m\"<ipython-input-46-3b833d61c3de>\"\u001b[0;36m, line \u001b[0;32m16\u001b[0m\n\u001b[0;31m    break\u001b[0m\n\u001b[0m    ^\u001b[0m\n\u001b[0;31mSyntaxError\u001b[0m\u001b[0;31m:\u001b[0m 'break' outside loop\n"
          ]
        }
      ],
      "source": [
        "saldo= int(np.random.randint(0,5000000))\n",
        "\n",
        "\n",
        "menu = menu()\n",
        "\n",
        "if menu == 1 :\n",
        "  consultar_saldo(saldo)\n",
        "elif menu == 2:\n",
        "  saldo = depositar_dinero(saldo)\n",
        "elif menu == 3:\n",
        "  saldo = retirar_dinero(saldo)\n",
        "elif menu == 4:\n",
        "  saldo = transferir_dinero(saldo)\n",
        "elif menu == 5:\n",
        "  print(\"Gracias por usar nuestros servicios\")\n",
        "  break"
      ]
    },
    {
      "cell_type": "code",
      "source": [],
      "metadata": {
        "id": "c5pmbDw26CNh"
      },
      "execution_count": null,
      "outputs": []
    }
  ]
}